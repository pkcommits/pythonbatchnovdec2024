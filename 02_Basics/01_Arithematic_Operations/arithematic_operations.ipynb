{
 "cells": [
  {
   "cell_type": "markdown",
   "metadata": {},
   "source": [
    "Assignment try to sum of digits in a integer number, using divmod"
   ]
  },
  {
   "cell_type": "code",
   "execution_count": 3,
   "metadata": {},
   "outputs": [
    {
     "name": "stdout",
     "output_type": "stream",
     "text": [
      "sum of digits is 15\n"
     ]
    }
   ],
   "source": [
    "n = 12345\n",
    "total = 0\n",
    "\n",
    "while n > 0:\n",
    "    n, remainder = divmod(n, 10)\n",
    "    total += remainder\n",
    "\n",
    "print(f'sum of digits is {total}')\n"
   ]
  },
  {
   "cell_type": "markdown",
   "metadata": {},
   "source": [
    "If a clock has revolved for 32 times, and is halfway, how many days\n",
    "completed"
   ]
  },
  {
   "cell_type": "code",
   "execution_count": 3,
   "metadata": {},
   "outputs": [
    {
     "name": "stdout",
     "output_type": "stream",
     "text": [
      "completed days: 32\n"
     ]
    }
   ],
   "source": [
    "revolutions = 32.5\n",
    "completed_days = int(revolutions)\n",
    "\n",
    "print(f'completed days: {completed_days}')\n"
   ]
  }
 ],
 "metadata": {
  "kernelspec": {
   "display_name": "Python 3",
   "language": "python",
   "name": "python3"
  },
  "language_info": {
   "codemirror_mode": {
    "name": "ipython",
    "version": 3
   },
   "file_extension": ".py",
   "mimetype": "text/x-python",
   "name": "python",
   "nbconvert_exporter": "python",
   "pygments_lexer": "ipython3",
   "version": "3.12.1"
  }
 },
 "nbformat": 4,
 "nbformat_minor": 2
}
