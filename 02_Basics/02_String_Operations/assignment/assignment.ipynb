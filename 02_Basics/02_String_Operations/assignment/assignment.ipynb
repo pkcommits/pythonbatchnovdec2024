{
 "cells": [
  {
   "cell_type": "code",
   "execution_count": null,
   "metadata": {
    "vscode": {
     "languageId": "plaintext"
    }
   },
   "outputs": [],
   "source": [
    "# Assignment: test if a given sentence is palindrome or not\n",
    "# HINT: ignore the whitespace and check"
   ]
  },
  {
   "cell_type": "code",
   "execution_count": null,
   "metadata": {
    "vscode": {
     "languageId": "plaintext"
    }
   },
   "outputs": [],
   "source": [
    "# Assignment : identify few examples in diffenrent languages for casefold attribute usecase"
   ]
  },
  {
   "cell_type": "code",
   "execution_count": null,
   "metadata": {
    "vscode": {
     "languageId": "plaintext"
    }
   },
   "outputs": [],
   "source": [
    "# assignment : str.isdigit vs str.isnumeric"
   ]
  },
  {
   "cell_type": "code",
   "execution_count": null,
   "metadata": {
    "vscode": {
     "languageId": "plaintext"
    }
   },
   "outputs": [],
   "source": [
    "# assignment: modify the partition attribute to specific index positions "
   ]
  },
  {
   "cell_type": "code",
   "execution_count": null,
   "metadata": {
    "vscode": {
     "languageId": "plaintext"
    }
   },
   "outputs": [],
   "source": [
    "# Asssignment: Check how to replace from right to left"
   ]
  },
  {
   "cell_type": "code",
   "execution_count": null,
   "metadata": {
    "vscode": {
     "languageId": "plaintext"
    }
   },
   "outputs": [],
   "source": [
    "# Assignment: Enhance the previous assignment on grocery stores, by generating a final bill (mimick the supermarket bill)"
   ]
  },
  {
   "cell_type": "code",
   "execution_count": null,
   "metadata": {
    "vscode": {
     "languageId": "plaintext"
    }
   },
   "outputs": [],
   "source": [
    "# Assignment: how to take floating point value, and display in new style formating as integer, in teh string"
   ]
  },
  {
   "cell_type": "markdown",
   "metadata": {},
   "source": [
    "# Assignment\n",
    "# -------------\n",
    "# caesar cipher\n",
    "# ------------------  + 3\n",
    "# A B C D E F G H I J     Y Z\n",
    "# 0 1 2 3 4 5 6 7\n",
    "# D E F\n",
    "\n",
    "\n",
    "# Ex: egg => hjj\n",
    "#    bindu => elqg\n",
    "#    Yash  => bd..\n",
    "\n",
    "# ASSUMPTION: Ignore case -sensitivity\n",
    "# HINTS: ord(), chr(), %"
   ]
  }
 ],
 "metadata": {
  "language_info": {
   "name": "python"
  }
 },
 "nbformat": 4,
 "nbformat_minor": 2
}
