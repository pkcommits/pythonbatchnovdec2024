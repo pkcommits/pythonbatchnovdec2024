{
 "cells": [
  {
   "cell_type": "markdown",
   "metadata": {},
   "source": [
    "# Assignment: Generate even numbers between 45 & 137\n",
    "# loop values between limits, test eveness for each number\n",
    "# and display, if it is even\n",
    "\n",
    "# TIP - range, if condition within it, print function"
   ]
  }
 ],
 "metadata": {
  "language_info": {
   "name": "python"
  }
 },
 "nbformat": 4,
 "nbformat_minor": 2
}
